{
 "cells": [
  {
   "cell_type": "markdown",
   "metadata": {},
   "source": [
    "# Stochastic Synchronization in a Recurrent Neural Network"
   ]
  },
  {
   "cell_type": "markdown",
   "metadata": {},
   "source": [
    "This is a helping notebook that takes you over the main functions and analysis methods used in our model"
   ]
  },
  {
   "cell_type": "markdown",
   "metadata": {},
   "source": [
    "-----------------------------------"
   ]
  },
  {
   "cell_type": "markdown",
   "metadata": {},
   "source": [
    "First, let's import all the modules we will be using throughout the tutorial:"
   ]
  },
  {
   "cell_type": "code",
   "execution_count": 1,
   "metadata": {},
   "outputs": [],
   "source": [
    "# Import helping libraries and functions\n",
    "import numpy as np\n",
    "import matplotlib.pyplot as plt\n",
    "import tables\n",
    "from HelpingFuncs.peakdetect import peakdet\n",
    "from HelpingFuncs.peakfinders import *\n",
    "from HelpingFuncs.FreqAnalysis import comp_mtspectrogram\n",
    "\n",
    "# Import model-related functions and variables\n",
    "from Network_utils import *"
   ]
  },
  {
   "cell_type": "markdown",
   "metadata": {},
   "source": [
    "Now let's use the main function used to build and run a simulation of our RNN model 'run_network()'. Simply calling the function without specifying any parameter values will run a short simulation of the model with default parameters. Please refer to the file 'Network_utils.py' to see these parameters or simply type 'run_network?'\n",
    "In the following example we will simulate the model, monitor the membrane potential of every neruron and save the raw data in an hdf5 file."
   ]
  },
  {
   "cell_type": "code",
   "execution_count": null,
   "metadata": {},
   "outputs": [],
   "source": [
    "monitors_dict = run_network(save_raw=True, filename='Tutorial1', PlotFlag=True)"
   ]
  },
  {
   "cell_type": "markdown",
   "metadata": {},
   "source": [
    "The output returned by the function 'run_network' is a dictionary of all the monitors (brian objects) used during the simulations to record data. These objects contain the raw data inside them.\n",
    "The function 'analyze_network()' takes as input the dictionary returned by 'run_network()' in addition to other method-related parameters and returns a dictionary of features computed from the raw data. Run the code below to see an example:"
   ]
  },
  {
   "cell_type": "code",
   "execution_count": null,
   "metadata": {},
   "outputs": [],
   "source": [
    "feats_dict = analyze_network(monitors_dict, PlotFlag=True) #We set PlotFlag to be True to have a visualization of some of the computed features."
   ]
  },
  {
   "cell_type": "markdown",
   "metadata": {},
   "source": [
    "* Reading from a raw data file of pre-simulated network and computing features:"
   ]
  },
  {
   "cell_type": "code",
   "execution_count": null,
   "metadata": {},
   "outputs": [],
   "source": [
    "rawfile = tables.open('Tutorial1_raw.h5', 'r')\n",
    "print(rawfile) # This prints all the names and descriptions (shape) of the hdf5 file contents\n",
    "rawfile.close()\n",
    "\n",
    "# To compute features from raw data stored in a raw file we use the following functions which outputs the same features as the function 'analyze_network()':\n",
    "feats_dict_fromfile = analyze_raw('Tutorial1_raw.h5')"
   ]
  },
  {
   "cell_type": "markdown",
   "metadata": {},
   "source": []
  }
 ],
 "metadata": {
  "kernelspec": {
   "display_name": "Python 2",
   "language": "python",
   "name": "python2"
  },
  "language_info": {
   "codemirror_mode": {
    "name": "ipython",
    "version": 2
   },
   "file_extension": ".py",
   "mimetype": "text/x-python",
   "name": "python",
   "nbconvert_exporter": "python",
   "pygments_lexer": "ipython2",
   "version": "2.7.15"
  }
 },
 "nbformat": 4,
 "nbformat_minor": 2
}
